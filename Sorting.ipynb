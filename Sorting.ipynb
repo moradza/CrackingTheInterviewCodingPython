{
  "nbformat": 4,
  "nbformat_minor": 0,
  "metadata": {
    "colab": {
      "name": "Sorting.ipynb",
      "provenance": [],
      "collapsed_sections": [],
      "authorship_tag": "ABX9TyNh6RJGfmnBcwNaZKJeaAGm",
      "include_colab_link": true
    },
    "kernelspec": {
      "name": "python3",
      "display_name": "Python 3"
    },
    "language_info": {
      "name": "python"
    }
  },
  "cells": [
    {
      "cell_type": "markdown",
      "metadata": {
        "id": "view-in-github",
        "colab_type": "text"
      },
      "source": [
        "<a href=\"https://colab.research.google.com/github/moradza/CrackingTheInterviewCodingPython/blob/main/Sorting.ipynb\" target=\"_parent\"><img src=\"https://colab.research.google.com/assets/colab-badge.svg\" alt=\"Open In Colab\"/></a>"
      ]
    },
    {
      "cell_type": "markdown",
      "metadata": {
        "id": "O9Tk1o10Or2X"
      },
      "source": [
        "Common sorting algorithms\n",
        "\n",
        "- **Merge Sort**\n",
        "- **Quick Sort**\n",
        "- **Bucket Sort**\n",
        "\n",
        "Other:\n",
        "- **Bubble sort**: O(n^2) time and O(1) space, swap pairs untill array is sorted\n",
        "\n",
        "- **Selection sort**: O(n^2) time and O(1) space, linear scan for min, followed by linear scan in the rest of array for the new min\n",
        "\n",
        "- **Merge sort**: O(n log(n)) time and space dependents on the implementation, divide into two halves and merge (heavy)\n",
        "\n",
        "- **Quick sort**: O(n log(n)) time worst O(n^2) and log(n) space, pick a random pivot such that elements smaller than the pivot are placed before pivot and larger after the pivot. Best choice is median, hard to get\n",
        "\n",
        "-**Radix sort**: o(n k) time and o(1) space, just pass data for k time, good for integer, sort based on the first, 2nd, ... and last digit,repectively (k number of digits).\n",
        "\n"
      ]
    },
    {
      "cell_type": "code",
      "metadata": {
        "colab": {
          "base_uri": "https://localhost:8080/"
        },
        "id": "AmuRkIt-OS10",
        "outputId": "50d947fb-a8da-4dab-afc4-47bf37267717"
      },
      "source": [
        "# merge sort\n",
        "import numpy as np\n",
        "\n",
        "def mergeSort(nums):\n",
        "  helper = [0 for _ in range(len(nums))]\n",
        "  mergeSortHelper(nums,helper, 0, len(nums)-1)\n",
        "\n",
        "def mergeSortHelper(nums, helper, l, r):\n",
        "  if l < r:\n",
        "    mid = (l+r)//2\n",
        "    mergeSortHelper(nums, helper, l, mid)\n",
        "    mergeSortHelper(nums, helper, mid+1, r)\n",
        "    merge(nums, helper, l, mid, r)\n",
        "\n",
        "def merge(nums, helper, l, mid, r):\n",
        "  for i in range(l, r+1):\n",
        "    helper[i] = nums[i]\n",
        "  \n",
        "  low = l\n",
        "  high = mid+1\n",
        "  cur = low\n",
        "  while low <= mid and high <= r:\n",
        "    if helper[low] <= helper[high]:\n",
        "      nums[cur] = helper[low]\n",
        "      low += 1\n",
        "    else:\n",
        "      nums[cur] = helper[high]\n",
        "      high += 1\n",
        "    cur += 1\n",
        "  for i in range(low, mid+1):\n",
        "    nums[cur+i -low] = helper[i]\n",
        "nums = [i for i in np.random.permutation(100)[:20] ]\n",
        "print(nums)\n",
        "mergeSort(nums)\n",
        "print(nums)"
      ],
      "execution_count": null,
      "outputs": [
        {
          "output_type": "stream",
          "name": "stdout",
          "text": [
            "[87, 22, 76, 33, 69, 9, 16, 7, 58, 79, 68, 25, 65, 81, 88, 23, 59, 6, 91, 5]\n",
            "[5, 6, 7, 9, 16, 22, 23, 25, 33, 58, 59, 65, 68, 69, 76, 79, 81, 87, 88, 91]\n"
          ]
        }
      ]
    },
    {
      "cell_type": "code",
      "metadata": {
        "colab": {
          "base_uri": "https://localhost:8080/"
        },
        "id": "uc3SrZjGRagl",
        "outputId": "af263926-55b3-4341-9e44-a93bc3d792d1"
      },
      "source": [
        "# merge sort different\n",
        "import numpy as np\n",
        "\n",
        "def mergeSort(nums):\n",
        "  mergeSortHelper(nums)\n",
        "\n",
        "\n",
        "def mergeSortHelper(nums):\n",
        "  if len(nums) > 1:\n",
        "    mid = len(nums)//2\n",
        "    L = nums[:mid]\n",
        "    mergeSortHelper(L)\n",
        "    R = nums[mid:]\n",
        "    mergeSortHelper(R)\n",
        "    i,j, k = 0, 0, 0\n",
        "    while i < len(L) and j < len(R):\n",
        "      if L[i] < R[j]:\n",
        "        nums[k] = L[i]\n",
        "        i += 1\n",
        "        k += 1\n",
        "      else:\n",
        "        nums[k] = R[j]\n",
        "        j += 1\n",
        "        k += 1\n",
        "    while i <len(L):\n",
        "      nums[k] = L[i]\n",
        "      i += 1\n",
        "      k += 1\n",
        "    while j < len(R):\n",
        "      nums[k] = R[j]\n",
        "      j += 1\n",
        "      k += 1\n",
        "\n",
        "    #merge(left, right, l, mid, r)\n",
        "\n",
        "\n",
        "nums = [i for i in np.random.permutation(100)[:5] ]\n",
        "print(nums)\n",
        "mergeSort(nums)\n",
        "print(nums)"
      ],
      "execution_count": null,
      "outputs": [
        {
          "output_type": "stream",
          "name": "stdout",
          "text": [
            "[80, 43, 57, 10, 33]\n",
            "[10, 33, 43, 57, 80]\n"
          ]
        }
      ]
    },
    {
      "cell_type": "code",
      "metadata": {
        "colab": {
          "base_uri": "https://localhost:8080/"
        },
        "id": "qYRIIjgcT1-o",
        "outputId": "2af2ce41-86c1-4ed7-c608-0c75283968b3"
      },
      "source": [
        "# quick sort\n",
        "def quickSort(nums, l, r):\n",
        "  index = partition(nums, l, r)\n",
        "  if l < index - 1:\n",
        "    quickSort(nums, l, index-1)\n",
        "  if index < r :\n",
        "    quickSort(nums, index, r)\n",
        "def partition(nums, l, r):\n",
        "  pivot = nums[(l+r)//2]\n",
        "  while l <= r:\n",
        "    while nums[l] < pivot:\n",
        "      l += 1\n",
        "    while nums[r] > pivot:\n",
        "      r -= 1\n",
        "    #print(l,r)\n",
        "    if l <= r:\n",
        "      nums[l], nums[r] = nums[r], nums[l]\n",
        "      l += 1\n",
        "      r -= 1\n",
        "  return l\n",
        "# nums = [i for i in np.random.permutation(100)[:5] ]\n",
        "nums = [5,9,4,8,6,10,19,1,20]\n",
        "print(nums)\n",
        "quickSort(nums, 0, len(nums)-1)\n",
        "print(nums)"
      ],
      "execution_count": null,
      "outputs": [
        {
          "output_type": "stream",
          "name": "stdout",
          "text": [
            "[5, 9, 4, 8, 6, 10, 19, 1, 20]\n",
            "[1, 4, 5, 6, 8, 9, 10, 19, 20]\n"
          ]
        }
      ]
    },
    {
      "cell_type": "markdown",
      "metadata": {
        "id": "dehjqyiNlzoa"
      },
      "source": [
        "**Binary Search**\n",
        "- O(log(n)) time and O(1) space: bisect data based on mid point and target values.\n"
      ]
    },
    {
      "cell_type": "code",
      "metadata": {
        "colab": {
          "base_uri": "https://localhost:8080/"
        },
        "id": "1QTlm8PbmC1I",
        "outputId": "90553f5c-577d-4811-d98c-0ae4497b7313"
      },
      "source": [
        "def binarySearch(arr, x):\n",
        "  low = 0\n",
        "  high = len(arr)\n",
        "  while low <= high:\n",
        "    mid = low + (high-low)//2\n",
        "    if arr[mid] < x:\n",
        "      low = mid + 1\n",
        "    elif arr[mid] > x:\n",
        "      high = mid - 1\n",
        "    else:\n",
        "      return mid\n",
        "  return mid\n",
        "nums = [5,9,4,8,6,10,19,1,29,3,20,18]\n",
        "nums.sort()\n",
        "print(nums)\n",
        "idx = binarySearch(nums, 5)\n",
        "print(idx, nums[idx] == 5)"
      ],
      "execution_count": null,
      "outputs": [
        {
          "output_type": "stream",
          "name": "stdout",
          "text": [
            "[1, 3, 4, 5, 6, 8, 9, 10, 18, 19, 20, 29]\n",
            "3 True\n"
          ]
        }
      ]
    },
    {
      "cell_type": "code",
      "metadata": {
        "colab": {
          "base_uri": "https://localhost:8080/"
        },
        "id": "g5yZdQjumaUQ",
        "outputId": "ed8eec9b-a674-4341-fbc9-6e06323db93d"
      },
      "source": [
        "# Interview Questions\n",
        "# Sorted Merge\n",
        "import numpy as np\n",
        "aSize = 5\n",
        "bSize = 4\n",
        "A = [i for i in np.random.permutation(100)[:aSize]]\n",
        "A.sort()\n",
        "for i in range(bSize):\n",
        "  A.append(None)\n",
        "print(A)\n",
        "B = [i for i in np.random.permutation(100)[:bSize]]\n",
        "B.sort()\n",
        "print(B)\n",
        "def sortedMerge(A, B, aSize=aSize):\n",
        "  a = len(A)\n",
        "  b = len(B)\n",
        "  i,j = aSize - 1, b - 1\n",
        "  cur = a - 1\n",
        "  while j >= 0 :\n",
        "    if i>= 0  and A[i] > B[j]:\n",
        "      A[cur] = A[i]\n",
        "      i -= 1\n",
        "    else:\n",
        "      A[cur] = B[j]\n",
        "      j -= 1\n",
        "    cur -= 1\n",
        "sortedMerge(A,B)\n",
        "A"
      ],
      "execution_count": null,
      "outputs": [
        {
          "output_type": "stream",
          "name": "stdout",
          "text": [
            "[47, 48, 58, 70, 86, None, None, None, None]\n",
            "[8, 10, 52, 86]\n"
          ]
        },
        {
          "output_type": "execute_result",
          "data": {
            "text/plain": [
              "[8, 10, 47, 48, 52, 58, 70, 86, 86]"
            ]
          },
          "metadata": {},
          "execution_count": 48
        }
      ]
    },
    {
      "cell_type": "code",
      "metadata": {
        "colab": {
          "base_uri": "https://localhost:8080/"
        },
        "id": "GcxBsSZcn37t",
        "outputId": "b2086b9d-f7a4-43cf-a58d-b810ccae013e"
      },
      "source": [
        "# anagram sort\n",
        "import collections\n",
        "def sortAnagram(words):\n",
        "  helper = collections.defaultdict(list)\n",
        "  for word in words:\n",
        "    sortedWord = ''.join(sorted(word))\n",
        "    #print(sortedWord, word)\n",
        "    helper[sortedWord].append(word)\n",
        "  res = []\n",
        "  for k,v in helper.items():\n",
        "    for word in v:\n",
        "      res.append(word)\n",
        "  return res\n",
        "sortAnagram(['ali','reza', 'azer', 'earz','lia','ila', 'alex', 'xela'])"
      ],
      "execution_count": null,
      "outputs": [
        {
          "output_type": "execute_result",
          "data": {
            "text/plain": [
              "['ali', 'lia', 'ila', 'reza', 'azer', 'earz', 'alex', 'xela']"
            ]
          },
          "metadata": {},
          "execution_count": 51
        }
      ]
    },
    {
      "cell_type": "code",
      "metadata": {
        "colab": {
          "base_uri": "https://localhost:8080/"
        },
        "id": "HGpq5VsKtSX-",
        "outputId": "afc36e94-ad45-4870-e31a-4f96ed0ef130"
      },
      "source": [
        "# search in rotated array\n",
        "# Two conditions: with duplicate elements runs in O(n) and with distinct elements runs in O(log(n))\n",
        "def search(a, left, right, x):\n",
        "  #print(left)\n",
        "  mid = (left+right)//2\n",
        "  if x == a[mid]:\n",
        "    return mid\n",
        "  if (right<left):\n",
        "    return -1\n",
        "  \n",
        "  if a[left] < a[mid]: # left is sorted\n",
        "    if x >= a[left] and x < a[mid]:\n",
        "      return search(a, left, mid-1,x)\n",
        "    else:\n",
        "      return search(a, mid+1, right, x)\n",
        "  elif a[mid] < a[left]: # right is sorted:\n",
        "    if x > a[mid] and a <= a[right]:\n",
        "      return search(a, mid+1, right, x)\n",
        "    else:\n",
        "      return search(a, left, mid-1, x)\n",
        "  else:\n",
        "    if a[mid] != a[right]:\n",
        "      return search(a, mid+1, right,x)\n",
        "    else:\n",
        "      result = search(a, left, mid-1, x)\n",
        "      if result == -1:\n",
        "        return search(a, mid+1, right, x)\n",
        "      else:\n",
        "        return result\n",
        "\n",
        "a = [2,2,2,2,2,3, 10, 13, 14, 2, 2,2,2,2, 2,2,2, 2, 2,2,2, 2, 2,2,2, 2, 2,2,2,2, 2,2,2, 2, 2,2,2, 2, 2,2,2, 2, 2,2,2, 2, 2,2,2, 2, 2,2,2, 2, 2,2,2,2, 2,2,2, 2, 2,2,2, 2, 2,2,2]\n",
        "search(a, 0, len(a)-1, 5)"
      ],
      "execution_count": null,
      "outputs": [
        {
          "output_type": "execute_result",
          "data": {
            "text/plain": [
              "-1"
            ]
          },
          "metadata": {},
          "execution_count": 63
        }
      ]
    },
    {
      "cell_type": "code",
      "metadata": {
        "colab": {
          "base_uri": "https://localhost:8080/"
        },
        "id": "XCVBATC_tZi9",
        "outputId": "f866401d-adde-4970-a09e-794e643c48c0"
      },
      "source": [
        "# Sorted Search, No Size\n",
        "arr = np.random.permutation(100)[:10] + 1\n",
        "arr = [a for a in arr]\n",
        "arr.sort()\n",
        "print(arr)\n",
        "def returnEelem(i, arr=arr):\n",
        "  if i >= len(arr):\n",
        "    return -1\n",
        "  return arr[i]\n",
        "def search(x):\n",
        "  size = 1\n",
        "  while returnEelem(size) != -1 and returnEelem(size) < x:\n",
        "    size *= 2\n",
        "  return  binarySearch(x, size//2, size+1)\n",
        "\n",
        "def binarySearch(x, l, r):\n",
        "  \n",
        "  while l <= r:\n",
        "    mid = (l+r)//2\n",
        "    if returnEelem(mid) == -1 or returnEelem(mid) > x:\n",
        "      r = mid - 1\n",
        "    elif returnEelem(mid) < x:\n",
        "      l = mid +1 \n",
        "    else:\n",
        "      return mid\n",
        "  return -1\n",
        "for a in arr:\n",
        "  print(a, search(a)!=-1)#, search(57),search(38)  \n",
        "  print(a+1, search(a+1) == -1)"
      ],
      "execution_count": null,
      "outputs": [
        {
          "output_type": "stream",
          "name": "stdout",
          "text": [
            "[6, 13, 18, 20, 36, 40, 52, 68, 77, 84]\n",
            "6 True\n",
            "7 True\n",
            "13 True\n",
            "14 True\n",
            "18 True\n",
            "19 True\n",
            "20 True\n",
            "21 True\n",
            "36 True\n",
            "37 True\n",
            "40 True\n",
            "41 True\n",
            "52 True\n",
            "53 True\n",
            "68 True\n",
            "69 True\n",
            "77 True\n",
            "78 True\n",
            "84 True\n",
            "85 True\n"
          ]
        }
      ]
    },
    {
      "cell_type": "code",
      "metadata": {
        "id": "hAuxJyXh-BJm"
      },
      "source": [
        "# Sparse Search\n",
        "\n"
      ],
      "execution_count": null,
      "outputs": []
    },
    {
      "cell_type": "code",
      "metadata": {
        "id": "P0BDClHN-ERG"
      },
      "source": [
        ""
      ],
      "execution_count": null,
      "outputs": []
    }
  ]
}